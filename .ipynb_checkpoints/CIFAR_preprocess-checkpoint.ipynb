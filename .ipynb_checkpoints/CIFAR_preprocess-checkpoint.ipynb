{
 "cells": [
  {
   "cell_type": "code",
   "execution_count": 3,
   "metadata": {},
   "outputs": [],
   "source": [
    "import pickle\n",
    "import numpy as np\n",
    "import csv\n",
    "import random\n",
    "from pathlib import Path\n",
    "from matplotlib import pyplot as plt\n",
    "from tqdm import tqdm_notebook as tqdm"
   ]
  },
  {
   "cell_type": "code",
   "execution_count": 2,
   "metadata": {},
   "outputs": [],
   "source": [
    "def unpickle(file):\n",
    "    with open(file, 'rb') as fo:\n",
    "        dict = pickle.load(fo, encoding='bytes')\n",
    "    return dict\n",
    "\n",
    "def byte2str(word):\n",
    "    str(word, encoding='utf-8')\n",
    "    return bytes.decode(word)"
   ]
  },
  {
   "cell_type": "code",
   "execution_count": 3,
   "metadata": {},
   "outputs": [],
   "source": [
    "train_dict = unpickle('/home/tony/datasets/cifar-100-python/train')\n",
    "test_dict = unpickle('/home/tony/datasets/cifar-100-python/test')\n",
    "meta_dict = unpickle('/home/tony/datasets/cifar-100-python/meta')"
   ]
  },
  {
   "cell_type": "markdown",
   "metadata": {},
   "source": [
    "# preprocess data"
   ]
  },
  {
   "cell_type": "code",
   "execution_count": 4,
   "metadata": {},
   "outputs": [
    {
     "data": {
      "application/vnd.jupyter.widget-view+json": {
       "model_id": "981d95bd60e1461f8d68a36bbc0a911e",
       "version_major": 2,
       "version_minor": 0
      },
      "text/plain": [
       "HBox(children=(IntProgress(value=0, max=50000), HTML(value='')))"
      ]
     },
     "metadata": {},
     "output_type": "display_data"
    },
    {
     "name": "stdout",
     "output_type": "stream",
     "text": [
      "\n"
     ]
    }
   ],
   "source": [
    "train_data = train_dict[b'data']\n",
    "train_labels = train_dict[b'fine_labels']\n",
    "labels_name = meta_dict[b'fine_label_names']\n",
    "train_data_dir = Path('/home/tony/datasets/CIFAR_preprocessed/train/')\n",
    "\n",
    "if not train_data_dir.is_dir():\n",
    "    train_data_dir.mkdir(parents=True)\n",
    "    \n",
    "for b_name in labels_name:\n",
    "    class_name = Path(byte2str(b_name))\n",
    "    class_dir = train_data_dir / class_name\n",
    "    if not class_dir.is_dir():\n",
    "        class_dir.mkdir(parents=True)\n",
    "\n",
    "for i in tqdm(range(train_data.shape[0])):\n",
    "    r = train_data[i][:1024]\n",
    "    g = train_data[i][1024:2048]\n",
    "    b = train_data[i][2048:3072]\n",
    "    r = r.reshape((32, 32))\n",
    "    g = g.reshape((32, 32))\n",
    "    b = b.reshape((32, 32))\n",
    "    img = np.stack((r, g, b), axis=2)\n",
    "    label = train_labels[i]\n",
    "    class_name = Path(byte2str(labels_name[label] ))\n",
    "    np.save(train_data_dir / class_name / f'image_{i}.npy', img)"
   ]
  },
  {
   "cell_type": "code",
   "execution_count": null,
   "metadata": {},
   "outputs": [],
   "source": [
    "test_data = test_dict[b'data']\n",
    "test_labels = test_dict[b'fine_labels']\n",
    "labels_name = meta_dict[b'fine_label_names']\n",
    "test_data_dir = Path('/home/tony/datasets/CIFAR_preprocessed/test/')\n",
    "\n",
    "if not test_data_dir.is_dir():\n",
    "    test_data_dir.mkdir(parents=True)\n",
    "    \n",
    "for b_name in labels_name:\n",
    "    class_name = Path(byte2str(b_name))\n",
    "    class_dir = test_data_dir / class_name\n",
    "    if not class_dir.is_dir():\n",
    "        class_dir.mkdir(parents=True)\n",
    "\n",
    "for i in tqdm(range(test_data.shape[0])):\n",
    "    r = test_data[i][:1024]\n",
    "    g = test_data[i][1024:2048]\n",
    "    b = test_data[i][2048:3072]\n",
    "    r = r.reshape((32, 32))\n",
    "    g = g.reshape((32, 32))\n",
    "    b = b.reshape((32, 32))\n",
    "    img = np.stack((r, g, b), axis=2)\n",
    "    label = test_labels[i]\n",
    "    class_name = Path(byte2str(labels_name[label] ))\n",
    "    np.save(test_data_dir / class_name / f'image_{i}.npy', img)"
   ]
  },
  {
   "cell_type": "markdown",
   "metadata": {},
   "source": [
    "# make csv"
   ]
  },
  {
   "cell_type": "code",
   "execution_count": 10,
   "metadata": {},
   "outputs": [],
   "source": [
    "RANDOM_SEED = 601985\n",
    "VAL_RATE = 0.1\n",
    "\n",
    "split_path = Path('/home/tony/datasets/CIFAR_preprocessed/train')\n",
    "classes_path = [_dir for _dir in split_path.iterdir() if _dir.is_dir()] \n",
    "for _dir in classes_path:\n",
    "    csv_path = str(_dir / Path('CIFAR_split.csv'))\n",
    "    with open(csv_path, 'w', newline='') as csvfile:\n",
    "        writer = csv.writer(csvfile)\n",
    "        data_list = sorted(list(_dir.glob('*.npy')))\n",
    "        val_len = int(len(data_list) * 0.1)\n",
    "        \n",
    "        random.seed(RANDOM_SEED)\n",
    "        random.shuffle(data_list)\n",
    "        train_list = data_list[val_len:]\n",
    "        val_list = data_list[:val_len]\n",
    "\n",
    "        for idx, path in enumerate(train_list):\n",
    "            writer.writerow([str(path), 'Training'])\n",
    "        for idx, path in enumerate(val_list):\n",
    "            writer.writerow([str(path), 'Validation'])"
   ]
  },
  {
   "cell_type": "code",
   "execution_count": null,
   "metadata": {},
   "outputs": [],
   "source": []
  },
  {
   "cell_type": "code",
   "execution_count": null,
   "metadata": {},
   "outputs": [],
   "source": []
  },
  {
   "cell_type": "code",
   "execution_count": 21,
   "metadata": {},
   "outputs": [],
   "source": [
    "class_dirs = [_dir for _dir in train_data_dir.iterdir() if _dir.is_dir()]\n",
    "for dir_path in class_dirs:\n",
    "    if len(list(dir_path.glob('image*.npy'))) != 450:\n",
    "        print(dir_path)"
   ]
  },
  {
   "cell_type": "code",
   "execution_count": 40,
   "metadata": {},
   "outputs": [],
   "source": [
    "class_dirs = [_dir for _dir in test_data_dir.iterdir() if _dir.is_dir()]\n",
    "for dir_path in class_dirs:\n",
    "    if len(list(dir_path.glob('image*.npy'))) != 100:\n",
    "        print(dir_path)"
   ]
  },
  {
   "cell_type": "code",
   "execution_count": 34,
   "metadata": {},
   "outputs": [
    {
     "data": {
      "text/plain": [
       "<matplotlib.image.AxesImage at 0x7f07c3e21860>"
      ]
     },
     "execution_count": 34,
     "metadata": {},
     "output_type": "execute_result"
    },
    {
     "data": {
      "image/png": "[encoded data removed]",
      "text/plain": [
       "<Figure size 432x288 with 1 Axes>"
      ]
     },
     "metadata": {
      "needs_background": "light"
     },
     "output_type": "display_data"
    }
   ],
   "source": [
    "### check output\n",
    "class_name = 'tulip'\n",
    "location = Path('/home/tony/datasets/CIFAR_preprocessed/train/') / Path(class_name)\n",
    "idx = random.randint(0, 499)\n",
    "img_path = list(location.glob('image*.npy'))[idx]\n",
    "img = np.load(img_path)\n",
    "plt.imshow(img)"
   ]
  },
  {
   "cell_type": "code",
   "execution_count": null,
   "metadata": {},
   "outputs": [],
   "source": []
  },
  {
   "cell_type": "code",
   "execution_count": 11,
   "metadata": {},
   "outputs": [
    {
     "data": {
      "text/plain": [
       "<matplotlib.image.AxesImage at 0x7f970e1f6cf8>"
      ]
     },
     "execution_count": 11,
     "metadata": {},
     "output_type": "execute_result"
    },
    {
     "data": {
      "image/png": "[encoded data removed]",
      "text/plain": [
       "<Figure size 432x288 with 1 Axes>"
      ]
     },
     "metadata": {
      "needs_background": "light"
     },
     "output_type": "display_data"
    }
   ],
   "source": [
    "i = 0\n",
    "r = train_data[i][:1024]\n",
    "g = train_data[i][1024:2048]\n",
    "b = train_data[i][2048:3072]\n",
    "r = r.reshape((32, 32))\n",
    "g = g.reshape((32, 32))\n",
    "b = b.reshape((32, 32))\n",
    "img = np.stack((r, g, b), axis=2)\n",
    "plt.imshow(img)"
   ]
  },
  {
   "cell_type": "code",
   "execution_count": null,
   "metadata": {},
   "outputs": [],
   "source": []
  }
 ],
 "metadata": {
  "kernelspec": {
   "display_name": "pointnet",
   "language": "python",
   "name": "pointnet"
  },
  "language_info": {
   "codemirror_mode": {
    "name": "ipython",
    "version": 3
   },
   "file_extension": ".py",
   "mimetype": "text/x-python",
   "name": "python",
   "nbconvert_exporter": "python",
   "pygments_lexer": "ipython3",
   "version": "3.7.3"
  }
 },
 "nbformat": 4,
 "nbformat_minor": 2
}
