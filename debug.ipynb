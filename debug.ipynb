{
 "cells": [
  {
   "cell_type": "code",
   "execution_count": 1,
   "metadata": {},
   "outputs": [],
   "source": [
    "import src\n",
    "import numpy as np\n",
    "from src.learner import ICaRLLearner\n",
    "from box import Box"
   ]
  },
  {
   "cell_type": "code",
   "execution_count": 2,
   "metadata": {},
   "outputs": [],
   "source": [
    "def _get_instance(module, config, *args):\n",
    "\n",
    "    cls = getattr(module, config.name)\n",
    "    return cls(*args, **config.get('kwargs', {}))"
   ]
  },
  {
   "cell_type": "code",
   "execution_count": 8,
   "metadata": {},
   "outputs": [
    {
     "name": "stdout",
     "output_type": "stream",
     "text": [
      "yes\n"
     ]
    }
   ],
   "source": [
    "config = Box.from_yaml(filename='/home/tony/Incremental_Learning/configs/train/icarl_config.yaml')\n",
    "saved_dir = Path(config.main.saved_dir)\n",
    "if not saved_dir.is_dir():\n",
    "saved_dir.mkdir(parents=True)\n",
    "\n",
    "logging.info(f'Save the config to \"{saved_dir}\".')\n",
    "copyfile(args.config_path, saved_dir / 'config.yaml')\n",
    "\n",
    "if not args.test:\n",
    "\n",
    "random_seed = config.main.get('random_seed')\n",
    "if random_seed is None:\n",
    "    torch.backends.cudnn.deterministic = False\n",
    "    torch.backends.cudnn.benchmark = True\n",
    "else:\n",
    "    logging.info('Make the experiment results deterministic.')\n",
    "    random.seed(random_seed)\n",
    "    torch.manual_seed(random_seed)\n",
    "    torch.cuda.manual_seed_all(random_seed)\n",
    "    torch.backends.cudnn.deterministic = True\n",
    "    torch.backends.cudnn.benchmark = False\n",
    "\n",
    "logging.info('Create the device.')\n",
    "if 'cuda' in config.trainer.kwargs.device and not torch.cuda.is_available():\n",
    "    raise ValueError(\"The cuda is not available. Please set the device to 'cpu'.\")\n",
    "device = torch.device(config.trainer.kwargs.device)\n",
    "\n",
    "logging.info('Create the network architecture.')\n",
    "net = _get_instance(src.model.nets, config.net).to(device)\n",
    "\n",
    "logging.info('Create the loss functions and corresponding weights.')\n",
    "loss_fns, loss_weights = [], []\n",
    "defaulted_loss_fns = [loss_fn for loss_fn in dir(torch.nn) if 'Loss' in loss_fn]\n",
    "for config_loss in config.losses:\n",
    "    if config_loss.name in defaulted_loss_fns:\n",
    "        loss_fn = _get_instance(torch.nn, config_loss)\n",
    "    else:\n",
    "        loss_fn = _get_instance(src.model.losses, config_loss)\n",
    "    loss_fns.append(loss_fn)\n",
    "    loss_weights.append(config_loss.weight)\n",
    "\n",
    "logging.info('Create the metric functions.')\n",
    "metric_fns = MetricFns()\n",
    "for config_metric in config.metrics:\n",
    "    metric_fn = _get_instance(src.model.metrics, config_metric).to(device)\n",
    "    name = config_metric.get('alias', config_metric.name)\n",
    "    setattr(metric_fns, name, metric_fn)"
   ]
  },
  {
   "cell_type": "code",
   "execution_count": 12,
   "metadata": {},
   "outputs": [
    {
     "name": "stdout",
     "output_type": "stream",
     "text": [
      "5, 0\n",
      "6, 1\n",
      "7, 2\n",
      "8, 3\n",
      "9, 4\n"
     ]
    }
   ],
   "source": [
    "a = list(range(5, 10))\n",
    "b = list(range(0, 5))\n",
    "for ai, bi in zip(a, b):\n",
    "    print(f'{ai}, {bi}')"
   ]
  },
  {
   "cell_type": "code",
   "execution_count": 5,
   "metadata": {},
   "outputs": [
    {
     "data": {
      "text/plain": [
       "'None'"
      ]
     },
     "execution_count": 5,
     "metadata": {},
     "output_type": "execute_result"
    }
   ],
   "source": [
    "loaded_path"
   ]
  },
  {
   "cell_type": "code",
   "execution_count": 3,
   "metadata": {},
   "outputs": [
    {
     "ename": "NameError",
     "evalue": "name 'config' is not defined",
     "output_type": "error",
     "traceback": [
      "\u001b[0;31m---------------------------------------------------------------------------\u001b[0m",
      "\u001b[0;31mNameError\u001b[0m                                 Traceback (most recent call last)",
      "\u001b[0;32m<ipython-input-3-e9d7d5f0efc3>\u001b[0m in \u001b[0;36m<module>\u001b[0;34m\u001b[0m\n\u001b[1;32m      1\u001b[0m \u001b[0mconfig\u001b[0m \u001b[0;34m=\u001b[0m \u001b[0mBox\u001b[0m\u001b[0;34m.\u001b[0m\u001b[0mfrom_yaml\u001b[0m\u001b[0;34m(\u001b[0m\u001b[0mfilename\u001b[0m\u001b[0;34m=\u001b[0m\u001b[0;34m'/home/tony/Incremental_Learning/configs/train/icarl_config.yaml'\u001b[0m\u001b[0;34m)\u001b[0m\u001b[0;34m\u001b[0m\u001b[0;34m\u001b[0m\u001b[0m\n\u001b[1;32m      2\u001b[0m \u001b[0mconfig\u001b[0m\u001b[0;34m.\u001b[0m\u001b[0mlearner\u001b[0m\u001b[0;34m.\u001b[0m\u001b[0msetdefault\u001b[0m\u001b[0;34m(\u001b[0m\u001b[0;34m'kwargs'\u001b[0m\u001b[0;34m,\u001b[0m \u001b[0;34m{\u001b[0m\u001b[0;34m}\u001b[0m\u001b[0;34m)\u001b[0m\u001b[0;34m.\u001b[0m\u001b[0mupdate\u001b[0m\u001b[0;34m(\u001b[0m\u001b[0mconfig\u001b[0m\u001b[0;34m=\u001b[0m\u001b[0mconfig\u001b[0m\u001b[0;34m)\u001b[0m\u001b[0;34m\u001b[0m\u001b[0;34m\u001b[0m\u001b[0m\n\u001b[0;32m----> 3\u001b[0;31m \u001b[0mlearner\u001b[0m \u001b[0;34m=\u001b[0m \u001b[0m_get_instance\u001b[0m\u001b[0;34m(\u001b[0m\u001b[0msrc\u001b[0m\u001b[0;34m.\u001b[0m\u001b[0mlearner\u001b[0m\u001b[0;34m,\u001b[0m \u001b[0mconfig\u001b[0m\u001b[0;34m.\u001b[0m\u001b[0mlearner\u001b[0m\u001b[0;34m)\u001b[0m\u001b[0;34m\u001b[0m\u001b[0;34m\u001b[0m\u001b[0m\n\u001b[0m",
      "\u001b[0;32m<ipython-input-2-0c1c294bafe5>\u001b[0m in \u001b[0;36m_get_instance\u001b[0;34m(module, config, *args)\u001b[0m\n\u001b[1;32m      2\u001b[0m \u001b[0;34m\u001b[0m\u001b[0m\n\u001b[1;32m      3\u001b[0m     \u001b[0mcls\u001b[0m \u001b[0;34m=\u001b[0m \u001b[0mgetattr\u001b[0m\u001b[0;34m(\u001b[0m\u001b[0mmodule\u001b[0m\u001b[0;34m,\u001b[0m \u001b[0mconfig\u001b[0m\u001b[0;34m.\u001b[0m\u001b[0mname\u001b[0m\u001b[0;34m)\u001b[0m\u001b[0;34m\u001b[0m\u001b[0;34m\u001b[0m\u001b[0m\n\u001b[0;32m----> 4\u001b[0;31m     \u001b[0;32mreturn\u001b[0m \u001b[0mcls\u001b[0m\u001b[0;34m(\u001b[0m\u001b[0;34m*\u001b[0m\u001b[0margs\u001b[0m\u001b[0;34m,\u001b[0m \u001b[0;34m**\u001b[0m\u001b[0mconfig\u001b[0m\u001b[0;34m.\u001b[0m\u001b[0mget\u001b[0m\u001b[0;34m(\u001b[0m\u001b[0;34m'kwargs'\u001b[0m\u001b[0;34m,\u001b[0m \u001b[0;34m{\u001b[0m\u001b[0;34m}\u001b[0m\u001b[0;34m)\u001b[0m\u001b[0;34m)\u001b[0m\u001b[0;34m\u001b[0m\u001b[0;34m\u001b[0m\u001b[0m\n\u001b[0m",
      "\u001b[0;32m~/Incremental_Learning/src/learner/icarl_learner.py\u001b[0m in \u001b[0;36m__init__\u001b[0;34m(self, exampler_size, **kwargs)\u001b[0m\n\u001b[1;32m     19\u001b[0m \u001b[0;34m\u001b[0m\u001b[0m\n\u001b[1;32m     20\u001b[0m     \u001b[0;32mdef\u001b[0m \u001b[0m__init__\u001b[0m\u001b[0;34m(\u001b[0m\u001b[0mself\u001b[0m\u001b[0;34m,\u001b[0m \u001b[0mexampler_size\u001b[0m\u001b[0;34m,\u001b[0m \u001b[0;34m**\u001b[0m\u001b[0mkwargs\u001b[0m\u001b[0;34m)\u001b[0m\u001b[0;34m:\u001b[0m\u001b[0;34m\u001b[0m\u001b[0;34m\u001b[0m\u001b[0m\n\u001b[0;32m---> 21\u001b[0;31m         \u001b[0msuper\u001b[0m\u001b[0;34m(\u001b[0m\u001b[0;34m)\u001b[0m\u001b[0;34m.\u001b[0m\u001b[0m__init__\u001b[0m\u001b[0;34m(\u001b[0m\u001b[0;34m**\u001b[0m\u001b[0mkwargs\u001b[0m\u001b[0;34m)\u001b[0m\u001b[0;34m\u001b[0m\u001b[0;34m\u001b[0m\u001b[0m\n\u001b[0m\u001b[1;32m     22\u001b[0m         \u001b[0mself\u001b[0m\u001b[0;34m.\u001b[0m\u001b[0mexampler_size\u001b[0m \u001b[0;34m=\u001b[0m \u001b[0mexampler_size\u001b[0m\u001b[0;34m\u001b[0m\u001b[0;34m\u001b[0m\u001b[0m\n\u001b[1;32m     23\u001b[0m         \u001b[0mself\u001b[0m\u001b[0;34m.\u001b[0m\u001b[0msize_per_class\u001b[0m \u001b[0;34m=\u001b[0m \u001b[0;36m0\u001b[0m  \u001b[0;31m# how many image per class in the exampler\u001b[0m\u001b[0;34m\u001b[0m\u001b[0;34m\u001b[0m\u001b[0m\n",
      "\u001b[0;32m~/Incremental_Learning/src/learner/incremental_learner.py\u001b[0m in \u001b[0;36m__init__\u001b[0;34m(self, total_num_class, class_per_task, chosen_order, **kwargs)\u001b[0m\n\u001b[1;32m     26\u001b[0m             \u001b[0mdata_dir\u001b[0m \u001b[0;34m(\u001b[0m\u001b[0mpathlib\u001b[0m\u001b[0;34m)\u001b[0m\u001b[0;34m:\u001b[0m \u001b[0mpath\u001b[0m \u001b[0mof\u001b[0m \u001b[0mdata\u001b[0m \u001b[0mfolders\u001b[0m\u001b[0;34m.\u001b[0m\u001b[0;34m\u001b[0m\u001b[0;34m\u001b[0m\u001b[0m\n\u001b[1;32m     27\u001b[0m         \"\"\"\n\u001b[0;32m---> 28\u001b[0;31m         \u001b[0mself\u001b[0m\u001b[0;34m.\u001b[0m\u001b[0mconfig\u001b[0m \u001b[0;34m=\u001b[0m \u001b[0mconfig\u001b[0m\u001b[0;34m\u001b[0m\u001b[0;34m\u001b[0m\u001b[0m\n\u001b[0m\u001b[1;32m     29\u001b[0m         \u001b[0mself\u001b[0m\u001b[0;34m.\u001b[0m\u001b[0mtotal_num_class\u001b[0m \u001b[0;34m=\u001b[0m \u001b[0mtotal_num_class\u001b[0m\u001b[0;34m\u001b[0m\u001b[0;34m\u001b[0m\u001b[0m\n\u001b[1;32m     30\u001b[0m         \u001b[0mself\u001b[0m\u001b[0;34m.\u001b[0m\u001b[0mclass_per_task\u001b[0m \u001b[0;34m=\u001b[0m \u001b[0mclass_per_task\u001b[0m\u001b[0;34m\u001b[0m\u001b[0;34m\u001b[0m\u001b[0m\n",
      "\u001b[0;31mNameError\u001b[0m: name 'config' is not defined"
     ]
    }
   ],
   "source": [
    "config = Box.from_yaml(filename='/home/tony/Incremental_Learning/configs/train/icarl_config.yaml')\n",
    "config.learner.setdefault('kwargs', {}).update(config=config)\n",
    "learner = _get_instance(src.learner, config.learner)"
   ]
  },
  {
   "cell_type": "code",
   "execution_count": 6,
   "metadata": {},
   "outputs": [
    {
     "name": "stdout",
     "output_type": "stream",
     "text": [
      "900\n",
      "[  0.   0.   0.   0. 450.   0.   0.   0.   0.   0.   0. 450.   0.   0.\n",
      "   0.   0.   0.   0. 450.   0.   0.   0.   0.   0. 450.   0.   0.   0.\n",
      "   0. 450.   0.   0. 450.   0.   0.   0.   0.   0.   0.   0.   0.   0.\n",
      "   0.   0.   0. 450.   0. 450.   0.   0. 450.   0.   0.   0.   0.   0.\n",
      "   0. 450.   0.   0.   0.   0.   0.   0.   0.   0. 450. 450.   0. 450.\n",
      "   0.   0.   0.   0.   0.   0.   0. 450.   0. 450.   0.   0.   0. 450.\n",
      " 450.   0.   0.   0. 450.   0.   0.   0.   0. 450.   0.   0. 450.   0.\n",
      "   0.   0.]\n",
      "100\n",
      "[ 0.  0.  0.  0. 50.  0.  0.  0.  0.  0.  0. 50.  0.  0.  0.  0.  0.  0.\n",
      " 50.  0.  0.  0.  0.  0. 50.  0.  0.  0.  0. 50.  0.  0. 50.  0.  0.  0.\n",
      "  0.  0.  0.  0.  0.  0.  0.  0.  0. 50.  0. 50.  0.  0. 50.  0.  0.  0.\n",
      "  0.  0.  0. 50.  0.  0.  0.  0.  0.  0.  0.  0. 50. 50.  0. 50.  0.  0.\n",
      "  0.  0.  0.  0.  0. 50.  0. 50.  0.  0.  0. 50. 50.  0.  0.  0. 50.  0.\n",
      "  0.  0.  0. 50.  0.  0. 50.  0.  0.  0.]\n"
     ]
    }
   ],
   "source": [
    "learner.current_task += 1\n",
    "dataset = learner.build_dataset()\n",
    "loader = learner.build_dataloader(dataset, 'train')\n",
    "print(len(loader))\n",
    "count = np.zeros(100)\n",
    "for data in loader:\n",
    "    for i in range(10):\n",
    "        gt = data['target'][i, 0, 0]\n",
    "        count[gt] += 1\n",
    "print(count)\n",
    "loader = learner.build_dataloader(dataset, 'valid')\n",
    "print(len(loader))\n",
    "count = np.zeros(100)\n",
    "for data in loader:\n",
    "    for i in range(10):\n",
    "        gt = data['target'][i, 0, 0]\n",
    "        count[gt] += 1\n",
    "print(count)"
   ]
  },
  {
   "cell_type": "code",
   "execution_count": 7,
   "metadata": {},
   "outputs": [
    {
     "name": "stdout",
     "output_type": "stream",
     "text": [
      "400\n",
      "[100.   0.   0.   0. 100.   0.   0.   0. 100.   0. 100. 100.   0.   0.\n",
      " 100. 100.   0.   0. 100.   0.   0.   0.   0.   0. 100.   0.   0.   0.\n",
      "   0. 100.   0.   0. 100.   0.   0.   0.   0.   0.   0.   0.   0.   0.\n",
      "   0.   0. 100. 100.   0. 100.   0. 100. 100. 100. 100.   0.   0.   0.\n",
      "   0. 100. 100.   0.   0. 100.   0.   0.   0.   0. 100. 100. 100. 100.\n",
      "   0.   0. 100.   0.   0.   0.   0. 100. 100. 100.   0.   0.   0. 100.\n",
      " 100.   0. 100. 100. 100.   0.   0. 100. 100. 100. 100.   0. 100. 100.\n",
      "   0.   0.]\n"
     ]
    }
   ],
   "source": [
    "loader = learner.build_dataloader(dataset, 'test')\n",
    "print(len(loader))\n",
    "count = np.zeros(100)\n",
    "for data in loader:\n",
    "    for i in range(10):\n",
    "        gt = data['target'][i, 0, 0]\n",
    "        count[gt] += 1\n",
    "print(count)"
   ]
  },
  {
   "cell_type": "code",
   "execution_count": null,
   "metadata": {},
   "outputs": [],
   "source": []
  }
 ],
 "metadata": {
  "kernelspec": {
   "display_name": "tensor",
   "language": "python",
   "name": "tensor"
  },
  "language_info": {
   "codemirror_mode": {
    "name": "ipython",
    "version": 3
   },
   "file_extension": ".py",
   "mimetype": "text/x-python",
   "name": "python",
   "nbconvert_exporter": "python",
   "pygments_lexer": "ipython3",
   "version": "3.7.3"
  }
 },
 "nbformat": 4,
 "nbformat_minor": 2
}
