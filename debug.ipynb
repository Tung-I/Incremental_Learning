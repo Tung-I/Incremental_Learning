{
 "cells": [
  {
   "cell_type": "code",
   "execution_count": 1,
   "metadata": {},
   "outputs": [],
   "source": [
    "import src\n",
    "import numpy as np\n",
    "from src.learner import ICaRLLearner\n",
    "from box import Box"
   ]
  },
  {
   "cell_type": "code",
   "execution_count": 2,
   "metadata": {},
   "outputs": [],
   "source": [
    "def _get_instance(module, config, *args):\n",
    "\n",
    "    cls = getattr(module, config.name)\n",
    "    return cls(*args, **config.get('kwargs', {}))"
   ]
  },
  {
   "cell_type": "code",
   "execution_count": 3,
   "metadata": {},
   "outputs": [],
   "source": [
    "config = Box.from_yaml(filename='/home/tony/Incremental_Learning/configs/train/icarl_config.yaml')\n",
    "config.learner.setdefault('kwargs', {}).update(config=config)\n",
    "learner = _get_instance(src.learner, config.learner)"
   ]
  },
  {
   "cell_type": "code",
   "execution_count": 8,
   "metadata": {},
   "outputs": [
    {
     "name": "stdout",
     "output_type": "stream",
     "text": [
      "900\n",
      "[450.   0.   0.   0.   0.   0.   0.   0. 450.   0. 450.   0.   0.   0.\n",
      " 450. 450.   0.   0.   0.   0.   0.   0.   0.   0.   0.   0.   0.   0.\n",
      "   0.   0.   0.   0.   0.   0.   0.   0.   0.   0.   0.   0.   0.   0.\n",
      "   0.   0. 450.   0.   0.   0.   0. 450.   0. 450. 450.   0.   0.   0.\n",
      "   0.   0. 450.   0.   0. 450.   0.   0.   0.   0.   0.   0. 450.   0.\n",
      "   0.   0. 450.   0.   0.   0.   0.   0. 450.   0.   0.   0.   0.   0.\n",
      "   0.   0. 450. 450.   0.   0.   0. 450. 450.   0. 450.   0.   0. 450.\n",
      "   0.   0.]\n"
     ]
    }
   ],
   "source": [
    "dataset = learner.build_dataset()\n",
    "loader = learner.build_dataloader(dataset, 'train')\n",
    "print(len(loader))\n",
    "count = np.zeros(100)\n",
    "for data in loader:\n",
    "    for i in range(10):\n",
    "        gt = data['target'][i, 0, 0]\n",
    "        count[gt] += 1\n",
    "print(count)"
   ]
  },
  {
   "cell_type": "code",
   "execution_count": 15,
   "metadata": {},
   "outputs": [
    {
     "name": "stdout",
     "output_type": "stream",
     "text": [
      "900\n",
      "[  0.   0. 450.   0.   0.   0.   0. 450.   0.   0.   0.   0.   0. 450.\n",
      "   0.   0.   0.   0.   0.   0.   0.   0.   0. 450.   0.   0. 450.   0.\n",
      "   0.   0. 450.   0.   0.   0. 450. 450.   0.   0.   0. 450. 450.   0.\n",
      "   0.   0.   0.   0.   0.   0. 450.   0.   0.   0.   0.   0. 450. 450.\n",
      " 450.   0.   0.   0.   0.   0.   0.   0. 450.   0.   0.   0.   0.   0.\n",
      "   0. 450.   0.   0.   0.   0.   0.   0.   0.   0.   0.   0.   0.   0.\n",
      "   0. 450.   0.   0.   0.   0.   0.   0.   0.   0.   0. 450.   0.   0.\n",
      " 450. 450.]\n"
     ]
    }
   ],
   "source": [
    "learner.current_task += 1\n",
    "dataset = learner.build_dataset()\n",
    "loader = learner.build_dataloader(dataset, 'train')\n",
    "print(len(loader))\n",
    "count = np.zeros(100)\n",
    "for data in loader:\n",
    "    for i in range(10):\n",
    "        gt = data['target'][i, 0, 0]\n",
    "        count[gt] += 1\n",
    "print(count)"
   ]
  },
  {
   "cell_type": "code",
   "execution_count": 16,
   "metadata": {},
   "outputs": [
    {
     "name": "stdout",
     "output_type": "stream",
     "text": [
      "1000\n",
      "[100. 100. 100. 100. 100. 100. 100. 100. 100. 100. 100. 100. 100. 100.\n",
      " 100. 100. 100. 100. 100. 100. 100. 100. 100. 100. 100. 100. 100. 100.\n",
      " 100. 100. 100. 100. 100. 100. 100. 100. 100. 100. 100. 100. 100. 100.\n",
      " 100. 100. 100. 100. 100. 100. 100. 100. 100. 100. 100. 100. 100. 100.\n",
      " 100. 100. 100. 100. 100. 100. 100. 100. 100. 100. 100. 100. 100. 100.\n",
      " 100. 100. 100. 100. 100. 100. 100. 100. 100. 100. 100. 100. 100. 100.\n",
      " 100. 100. 100. 100. 100. 100. 100. 100. 100. 100. 100. 100. 100. 100.\n",
      " 100. 100.]\n"
     ]
    }
   ],
   "source": [
    "dataset = learner.build_dataset()\n",
    "loader = learner.build_dataloader(dataset, 'test')\n",
    "print(len(loader))\n",
    "count = np.zeros(100)\n",
    "for data in loader:\n",
    "    for i in range(10):\n",
    "        gt = data['target'][i, 0, 0]\n",
    "        count[gt] += 1\n",
    "print(count)"
   ]
  },
  {
   "cell_type": "code",
   "execution_count": null,
   "metadata": {},
   "outputs": [],
   "source": []
  }
 ],
 "metadata": {
  "kernelspec": {
   "display_name": "tensor",
   "language": "python",
   "name": "tensor"
  },
  "language_info": {
   "codemirror_mode": {
    "name": "ipython",
    "version": 3
   },
   "file_extension": ".py",
   "mimetype": "text/x-python",
   "name": "python",
   "nbconvert_exporter": "python",
   "pygments_lexer": "ipython3",
   "version": "3.7.3"
  }
 },
 "nbformat": 4,
 "nbformat_minor": 2
}
