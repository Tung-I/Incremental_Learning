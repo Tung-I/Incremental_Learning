{
 "cells": [
  {
   "cell_type": "code",
   "execution_count": 1,
   "metadata": {},
   "outputs": [],
   "source": [
    "import pickle\n",
    "import numpy as np\n",
    "from pathlib import Path\n",
    "from matplotlib import pyplot as plt\n",
    "from tqdm import tqdm_notebook as tqdm"
   ]
  },
  {
   "cell_type": "code",
   "execution_count": 2,
   "metadata": {},
   "outputs": [],
   "source": [
    "def unpickle(file):\n",
    "    with open(file, 'rb') as fo:\n",
    "        dict = pickle.load(fo, encoding='bytes')\n",
    "    return dict"
   ]
  },
  {
   "cell_type": "code",
   "execution_count": 3,
   "metadata": {},
   "outputs": [],
   "source": [
    "train_dict = unpickle('/home/tony/datasets/cifar-100-python/train')\n",
    "test_dict = unpickle('/home/tony/datasets/cifar-100-python/test')\n",
    "meta_dict = unpickle('/home/tony/datasets/cifar-100-python/meta')"
   ]
  },
  {
   "cell_type": "code",
   "execution_count": 4,
   "metadata": {},
   "outputs": [],
   "source": [
    "train_data = train_dict[b'data']\n",
    "train_labels = train_dict[b'fine_labels']\n",
    "labels_name = meta_dict[b'fine_label_names']"
   ]
  },
  {
   "cell_type": "code",
   "execution_count": 10,
   "metadata": {},
   "outputs": [
    {
     "data": {
      "application/vnd.jupyter.widget-view+json": {
       "model_id": "40be87cfe09e47769a258dc269b4aaff",
       "version_major": 2,
       "version_minor": 0
      },
      "text/plain": [
       "HBox(children=(IntProgress(value=0, max=50000), HTML(value='')))"
      ]
     },
     "metadata": {},
     "output_type": "display_data"
    },
    {
     "name": "stdout",
     "output_type": "stream",
     "text": [
      "\n"
     ]
    }
   ],
   "source": [
    "train_data_dir = Path('/home/tony/datasets/CIFAR_preprocessed/train/')\n",
    "if not train_data_dir.is_dir():\n",
    "    train_data_dir.mkdir(parents=True)\n",
    "\n",
    "for i in tqdm(range(train_data.shape[0])):\n",
    "    r = train_data[i][:1024]\n",
    "    g = train_data[i][1024:2048]\n",
    "    b = train_data[i][2048:3072]\n",
    "    r = r.reshape((32, 32))\n",
    "    g = g.reshape((32, 32))\n",
    "    b = b.reshape((32, 32))\n",
    "    img = np.stack((r, g, b), axis=2)\n",
    "    label = train_labels[i]\n",
    "    label_onehot = np.zeros(len(labels_name))\n",
    "    label_onehot[label] = 1.\n",
    "    np.save(train_data_dir / f'image_{i}.npy', img)\n",
    "    np.save(train_data_dir / f'label_{i}.npy', label_onehot)"
   ]
  },
  {
   "cell_type": "code",
   "execution_count": null,
   "metadata": {},
   "outputs": [],
   "source": []
  },
  {
   "cell_type": "code",
   "execution_count": null,
   "metadata": {},
   "outputs": [],
   "source": []
  },
  {
   "cell_type": "code",
   "execution_count": 25,
   "metadata": {},
   "outputs": [
    {
     "name": "stdout",
     "output_type": "stream",
     "text": [
      "b'cattle'\n"
     ]
    },
    {
     "data": {
      "image/png": "[encoded data removed]",
      "text/plain": [
       "<Figure size 432x288 with 1 Axes>"
      ]
     },
     "metadata": {
      "needs_background": "light"
     },
     "output_type": "display_data"
    }
   ],
   "source": [
    "### check output\n",
    "i = 278\n",
    "img = np.load(train_data_dir/f'image_{i}.npy')\n",
    "plt.imshow(img)\n",
    "label = np.load(train_data_dir/f'label_{i}.npy')\n",
    "print(labels_name[np.where(label==1)[0][0]])"
   ]
  },
  {
   "cell_type": "code",
   "execution_count": null,
   "metadata": {},
   "outputs": [],
   "source": []
  },
  {
   "cell_type": "code",
   "execution_count": null,
   "metadata": {},
   "outputs": [],
   "source": []
  },
  {
   "cell_type": "code",
   "execution_count": 11,
   "metadata": {},
   "outputs": [
    {
     "data": {
      "text/plain": [
       "<matplotlib.image.AxesImage at 0x7f970e1f6cf8>"
      ]
     },
     "execution_count": 11,
     "metadata": {},
     "output_type": "execute_result"
    },
    {
     "data": {
      "image/png": "[encoded data removed]",
      "text/plain": [
       "<Figure size 432x288 with 1 Axes>"
      ]
     },
     "metadata": {
      "needs_background": "light"
     },
     "output_type": "display_data"
    }
   ],
   "source": [
    "i = 0\n",
    "r = train_data[i][:1024]\n",
    "g = train_data[i][1024:2048]\n",
    "b = train_data[i][2048:3072]\n",
    "r = r.reshape((32, 32))\n",
    "g = g.reshape((32, 32))\n",
    "b = b.reshape((32, 32))\n",
    "img = np.stack((r, g, b), axis=2)\n",
    "plt.imshow(img)"
   ]
  },
  {
   "cell_type": "code",
   "execution_count": null,
   "metadata": {},
   "outputs": [],
   "source": []
  }
 ],
 "metadata": {
  "kernelspec": {
   "display_name": "pointnet",
   "language": "python",
   "name": "pointnet"
  },
  "language_info": {
   "codemirror_mode": {
    "name": "ipython",
    "version": 3
   },
   "file_extension": ".py",
   "mimetype": "text/x-python",
   "name": "python",
   "nbconvert_exporter": "python",
   "pygments_lexer": "ipython3",
   "version": "3.7.3"
  }
 },
 "nbformat": 4,
 "nbformat_minor": 2
}
